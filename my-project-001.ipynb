{
 "cells": [
  {
   "cell_type": "markdown",
   "metadata": {
    "id": "6joNIFPM4i19"
   },
   "source": [
    "# my-project-001\n",
    "\n",
    "Use the \"Run\" button to execute the code."
   ]
  },
  {
   "cell_type": "code",
   "execution_count": null,
   "metadata": {
    "executionInfo": {
     "elapsed": 2473,
     "status": "ok",
     "timestamp": 1629996628930,
     "user": {
      "displayName": "piyush athawale",
      "photoUrl": "",
      "userId": "08434953809522972959"
     },
     "user_tz": -330
    },
    "id": "Rg9Stidk4i1-"
   },
   "outputs": [],
   "source": [
    "!pip install jovian --upgrade --quiet"
   ]
  },
  {
   "cell_type": "code",
   "execution_count": null,
   "metadata": {
    "executionInfo": {
     "elapsed": 19,
     "status": "ok",
     "timestamp": 1629996628933,
     "user": {
      "displayName": "piyush athawale",
      "photoUrl": "",
      "userId": "08434953809522972959"
     },
     "user_tz": -330
    },
    "id": "mSHqPWsw4i1_"
   },
   "outputs": [],
   "source": [
    "import jovian"
   ]
  },
  {
   "cell_type": "code",
   "execution_count": null,
   "metadata": {
    "colab": {
     "base_uri": "https://localhost:8080/",
     "height": 128
    },
    "executionInfo": {
     "elapsed": 17875,
     "status": "ok",
     "timestamp": 1629996646790,
     "user": {
      "displayName": "piyush athawale",
      "photoUrl": "",
      "userId": "08434953809522972959"
     },
     "user_tz": -330
    },
    "id": "H9l62xrL4i2A",
    "outputId": "d2d8c3c2-6093-4529-ded5-c0c51a2042b6"
   },
   "outputs": [],
   "source": [
    "# Execute this to save new versions of the notebook\n",
    "jovian.commit(project=\"my-project-001\")"
   ]
  },
  {
   "cell_type": "markdown",
   "metadata": {
    "id": "nqNgZDf64i2D"
   },
   "source": [
    "## Driver Alertness Prediction\n",
    "In this project we will try to predict the Alertness of the driver based on given data."
   ]
  },
  {
   "cell_type": "code",
   "execution_count": null,
   "metadata": {
    "executionInfo": {
     "elapsed": 2658,
     "status": "ok",
     "timestamp": 1629996649439,
     "user": {
      "displayName": "piyush athawale",
      "photoUrl": "",
      "userId": "08434953809522972959"
     },
     "user_tz": -330
    },
    "id": "LcakznDw4i2E"
   },
   "outputs": [],
   "source": [
    "!pip install opendatasets --upgrade --quiet"
   ]
  },
  {
   "cell_type": "code",
   "execution_count": null,
   "metadata": {
    "executionInfo": {
     "elapsed": 23,
     "status": "ok",
     "timestamp": 1629996649440,
     "user": {
      "displayName": "piyush athawale",
      "photoUrl": "",
      "userId": "08434953809522972959"
     },
     "user_tz": -330
    },
    "id": "URQhd8Z34i2E"
   },
   "outputs": [],
   "source": [
    "import opendatasets as od"
   ]
  },
  {
   "cell_type": "code",
   "execution_count": null,
   "metadata": {
    "colab": {
     "base_uri": "https://localhost:8080/",
     "height": 36
    },
    "executionInfo": {
     "elapsed": 23,
     "status": "ok",
     "timestamp": 1629996649442,
     "user": {
      "displayName": "piyush athawale",
      "photoUrl": "",
      "userId": "08434953809522972959"
     },
     "user_tz": -330
    },
    "id": "7_21rhG24i2F",
    "outputId": "d4de23d5-18e0-4e76-fcb7-5efb43d91706"
   },
   "outputs": [],
   "source": [
    "od.version()"
   ]
  },
  {
   "cell_type": "code",
   "execution_count": null,
   "metadata": {
    "executionInfo": {
     "elapsed": 15,
     "status": "ok",
     "timestamp": 1629996649442,
     "user": {
      "displayName": "piyush athawale",
      "photoUrl": "",
      "userId": "08434953809522972959"
     },
     "user_tz": -330
    },
    "id": "p1PMq82q4i2G"
   },
   "outputs": [],
   "source": [
    "dataset_url = 'https://www.kaggle.com/c/stayalert'"
   ]
  },
  {
   "cell_type": "code",
   "execution_count": null,
   "metadata": {
    "colab": {
     "base_uri": "https://localhost:8080/"
    },
    "executionInfo": {
     "elapsed": 30144,
     "status": "ok",
     "timestamp": 1629996679573,
     "user": {
      "displayName": "piyush athawale",
      "photoUrl": "",
      "userId": "08434953809522972959"
     },
     "user_tz": -330
    },
    "id": "lpScolKQ4i2H",
    "outputId": "4e862276-cd4d-4f13-8990-5d5b75c0857d"
   },
   "outputs": [],
   "source": [
    "od.download(dataset_url)"
   ]
  },
  {
   "cell_type": "code",
   "execution_count": null,
   "metadata": {
    "executionInfo": {
     "elapsed": 19,
     "status": "ok",
     "timestamp": 1629996679574,
     "user": {
      "displayName": "piyush athawale",
      "photoUrl": "",
      "userId": "08434953809522972959"
     },
     "user_tz": -330
    },
    "id": "HK4pUy5Q4i2H"
   },
   "outputs": [],
   "source": [
    "import os"
   ]
  },
  {
   "cell_type": "code",
   "execution_count": null,
   "metadata": {
    "executionInfo": {
     "elapsed": 17,
     "status": "ok",
     "timestamp": 1629996679575,
     "user": {
      "displayName": "piyush athawale",
      "photoUrl": "",
      "userId": "08434953809522972959"
     },
     "user_tz": -330
    },
    "id": "TgiDDvv04i2I"
   },
   "outputs": [],
   "source": [
    "data_dir = './stayalert'"
   ]
  },
  {
   "cell_type": "code",
   "execution_count": null,
   "metadata": {
    "colab": {
     "base_uri": "https://localhost:8080/"
    },
    "executionInfo": {
     "elapsed": 18,
     "status": "ok",
     "timestamp": 1629996679576,
     "user": {
      "displayName": "piyush athawale",
      "photoUrl": "",
      "userId": "08434953809522972959"
     },
     "user_tz": -330
    },
    "id": "cT3Iw_K94i2I",
    "outputId": "2d7668cc-56fd-44e4-dea9-e7bf84083360"
   },
   "outputs": [],
   "source": [
    "os.listdir(data_dir)"
   ]
  },
  {
   "cell_type": "code",
   "execution_count": null,
   "metadata": {
    "executionInfo": {
     "elapsed": 15,
     "status": "ok",
     "timestamp": 1629996679578,
     "user": {
      "displayName": "piyush athawale",
      "photoUrl": "",
      "userId": "08434953809522972959"
     },
     "user_tz": -330
    },
    "id": "S35z_edz4i2J"
   },
   "outputs": [],
   "source": [
    "train_csv = data_dir + '/fordTrain.csv'"
   ]
  },
  {
   "cell_type": "code",
   "execution_count": null,
   "metadata": {
    "executionInfo": {
     "elapsed": 14,
     "status": "ok",
     "timestamp": 1629996679578,
     "user": {
      "displayName": "piyush athawale",
      "photoUrl": "",
      "userId": "08434953809522972959"
     },
     "user_tz": -330
    },
    "id": "OfsLZA-d4i2K"
   },
   "outputs": [],
   "source": [
    "import pandas as pd"
   ]
  },
  {
   "cell_type": "code",
   "execution_count": null,
   "metadata": {
    "executionInfo": {
     "elapsed": 1788,
     "status": "ok",
     "timestamp": 1629996681353,
     "user": {
      "displayName": "piyush athawale",
      "photoUrl": "",
      "userId": "08434953809522972959"
     },
     "user_tz": -330
    },
    "id": "HFbyhzfA4i2K"
   },
   "outputs": [],
   "source": [
    "take1 = pd.read_csv(train_csv)"
   ]
  },
  {
   "cell_type": "code",
   "execution_count": null,
   "metadata": {},
   "outputs": [],
   "source": [
    "test1 = pd.read_csv(data_dir + '/fordTest.csv')"
   ]
  },
  {
   "cell_type": "code",
   "execution_count": null,
   "metadata": {
    "colab": {
     "base_uri": "https://localhost:8080/",
     "height": 444
    },
    "executionInfo": {
     "elapsed": 23,
     "status": "ok",
     "timestamp": 1629996681353,
     "user": {
      "displayName": "piyush athawale",
      "photoUrl": "",
      "userId": "08434953809522972959"
     },
     "user_tz": -330
    },
    "id": "vk8LddG04i2K",
    "outputId": "d0427ac7-a21b-45c0-94e4-ba8376cf274a",
    "scrolled": true
   },
   "outputs": [],
   "source": [
    "take1"
   ]
  },
  {
   "cell_type": "code",
   "execution_count": null,
   "metadata": {
    "colab": {
     "base_uri": "https://localhost:8080/"
    },
    "executionInfo": {
     "elapsed": 22,
     "status": "ok",
     "timestamp": 1629996681355,
     "user": {
      "displayName": "piyush athawale",
      "photoUrl": "",
      "userId": "08434953809522972959"
     },
     "user_tz": -330
    },
    "id": "2IcdGrSJ4i2L",
    "outputId": "ce5cf6a2-1242-4d94-885e-74aac795c6ef"
   },
   "outputs": [],
   "source": [
    "take1.info()"
   ]
  },
  {
   "cell_type": "code",
   "execution_count": null,
   "metadata": {
    "colab": {
     "base_uri": "https://localhost:8080/"
    },
    "executionInfo": {
     "elapsed": 18,
     "status": "ok",
     "timestamp": 1629996681355,
     "user": {
      "displayName": "piyush athawale",
      "photoUrl": "",
      "userId": "08434953809522972959"
     },
     "user_tz": -330
    },
    "id": "8YGM_EV64i2L",
    "outputId": "3a5da09c-8349-4cc6-d1fe-f4245957a4a5"
   },
   "outputs": [],
   "source": [
    "sum(take1['IsAlert']==1)/604329"
   ]
  },
  {
   "cell_type": "markdown",
   "metadata": {},
   "source": [
    "### If we just take all the IsAlert Answers to be 1, We will get the Accuracy of 57%."
   ]
  },
  {
   "cell_type": "code",
   "execution_count": null,
   "metadata": {
    "colab": {
     "base_uri": "https://localhost:8080/"
    },
    "executionInfo": {
     "elapsed": 16,
     "status": "ok",
     "timestamp": 1629996681356,
     "user": {
      "displayName": "piyush athawale",
      "photoUrl": "",
      "userId": "08434953809522972959"
     },
     "user_tz": -330
    },
    "id": "gU1lU0Ks4i2L",
    "outputId": "eb183ce8-22b0-4802-c345-35721c2586e8"
   },
   "outputs": [],
   "source": [
    "take1.loc[:,\"V9\"]"
   ]
  },
  {
   "cell_type": "code",
   "execution_count": null,
   "metadata": {
    "colab": {
     "base_uri": "https://localhost:8080/"
    },
    "executionInfo": {
     "elapsed": 15,
     "status": "ok",
     "timestamp": 1629996681357,
     "user": {
      "displayName": "piyush athawale",
      "photoUrl": "",
      "userId": "08434953809522972959"
     },
     "user_tz": -330
    },
    "id": "kF17giW14i2M",
    "outputId": "3cbf5e3a-eaba-48f8-fc08-0f9c45f2a0c2"
   },
   "outputs": [],
   "source": [
    "sum(take1['V9']==1) # every id in V9 is given 0"
   ]
  },
  {
   "cell_type": "markdown",
   "metadata": {
    "id": "bWI8hYxZ4i2N"
   },
   "source": [
    "### There are multiple rows with all entries as 0, So we will delete that entries."
   ]
  },
  {
   "cell_type": "code",
   "execution_count": null,
   "metadata": {
    "colab": {
     "base_uri": "https://localhost:8080/"
    },
    "executionInfo": {
     "elapsed": 30993,
     "status": "ok",
     "timestamp": 1629996712337,
     "user": {
      "displayName": "piyush athawale",
      "photoUrl": "",
      "userId": "08434953809522972959"
     },
     "user_tz": -330
    },
    "id": "uUAIdoKh4i2N",
    "outputId": "3f6079a4-77e7-4b2e-f59b-e28ed1f99a32"
   },
   "outputs": [],
   "source": [
    "!pip install matplotlib plotly seaborn --upgrade --quiet"
   ]
  },
  {
   "cell_type": "code",
   "execution_count": null,
   "metadata": {
    "executionInfo": {
     "elapsed": 10,
     "status": "ok",
     "timestamp": 1629996712338,
     "user": {
      "displayName": "piyush athawale",
      "photoUrl": "",
      "userId": "08434953809522972959"
     },
     "user_tz": -330
    },
    "id": "vRBQvVRr4i2N"
   },
   "outputs": [],
   "source": [
    "import plotly as py"
   ]
  },
  {
   "cell_type": "code",
   "execution_count": null,
   "metadata": {
    "executionInfo": {
     "elapsed": 1700,
     "status": "ok",
     "timestamp": 1629996714030,
     "user": {
      "displayName": "piyush athawale",
      "photoUrl": "",
      "userId": "08434953809522972959"
     },
     "user_tz": -330
    },
    "id": "z1n029L34i2O"
   },
   "outputs": [],
   "source": [
    "\n",
    "import plotly.express as px\n",
    "import matplotlib\n",
    "import matplotlib.pyplot as plt\n",
    "import seaborn as sns\n",
    "\n",
    "%matplotlib inline\n",
    "matplotlib.rcParams['font.size']=14\n",
    "matplotlib.rcParams['figure.figsize']=(10,6)\n",
    "matplotlib.rcParams['figure.facecolor']='#00000000'"
   ]
  },
  {
   "cell_type": "code",
   "execution_count": null,
   "metadata": {
    "colab": {
     "background_save": true,
     "output_embedded_package_id": "1fbT55Qm6Db77EprLaWJZYYMkA-QnF6KH"
    },
    "id": "iT0LAdIM4i2O",
    "outputId": "8b0dd2c2-80fa-4e02-9fb7-0893da6065e3"
   },
   "outputs": [],
   "source": [
    "px.histogram(take1,\n",
    "            x = 'P1',\n",
    "            title = 'ANALYSIS_101',\n",
    "            color = 'IsAlert')\n"
   ]
  },
  {
   "cell_type": "code",
   "execution_count": null,
   "metadata": {
    "colab": {
     "background_save": true,
     "output_embedded_package_id": "1XhA_95yRqWjekpI5eNqz-QbhgDYkFPFH"
    },
    "id": "v7uSJ6Ux4i2a",
    "outputId": "2272a497-33b7-4fae-ab48-7a7a0505f7ad"
   },
   "outputs": [],
   "source": [
    "px.histogram(take1,\n",
    "            x = 'P6',\n",
    "            title = 'ANALYSIS_101',\n",
    "            color = 'IsAlert')"
   ]
  },
  {
   "cell_type": "code",
   "execution_count": null,
   "metadata": {
    "colab": {
     "background_save": true,
     "output_embedded_package_id": "1g_eQu8SXNXjnx6ZvQLGNUJLmuLqg_86W"
    },
    "id": "BU_UaY1S4i2e",
    "outputId": "e5f6ea79-57ee-416c-8d4d-6c5d5675fdea"
   },
   "outputs": [],
   "source": [
    "px.scatter(take1,\n",
    "            x = 'V5',\n",
    "            title = 'ANALYSIS_101',\n",
    "            y = 'IsAlert')"
   ]
  },
  {
   "cell_type": "markdown",
   "metadata": {
    "id": "hzVQqnon0L3v"
   },
   "source": [
    "All V9 values are 0 so we will have to take this into account. There are many colums that are totally Zero. We can just take them out of our dataset."
   ]
  },
  {
   "cell_type": "code",
   "execution_count": null,
   "metadata": {
    "colab": {
     "background_save": true
    },
    "id": "tMmTGiME4i2h"
   },
   "outputs": [],
   "source": [
    "take1.describe()"
   ]
  },
  {
   "cell_type": "code",
   "execution_count": null,
   "metadata": {
    "colab": {
     "background_save": true
    },
    "id": "p7SbhqQH0vCV"
   },
   "outputs": [],
   "source": [
    "sum(take1['P8']==0)"
   ]
  },
  {
   "cell_type": "code",
   "execution_count": null,
   "metadata": {
    "colab": {
     "background_save": true
    },
    "id": "2va1hMTv1Xy_"
   },
   "outputs": [],
   "source": [
    "sum(take1['V7']==0)"
   ]
  },
  {
   "cell_type": "code",
   "execution_count": null,
   "metadata": {
    "colab": {
     "background_save": true
    },
    "id": "KXM-zI9J1k-o"
   },
   "outputs": [],
   "source": [
    "sum(take1['V9']==0)"
   ]
  },
  {
   "cell_type": "markdown",
   "metadata": {
    "id": "m1aHOYBS1tQj"
   },
   "source": [
    "Seeing that these three colums have output 0 for every input it will be nice to delete the columns altogether."
   ]
  },
  {
   "cell_type": "code",
   "execution_count": null,
   "metadata": {
    "colab": {
     "background_save": true
    },
    "id": "dDLt2Gl51sCa"
   },
   "outputs": [],
   "source": [
    "take1 = take1.drop(['P8','V7','V9'],axis = 1)"
   ]
  },
  {
   "cell_type": "code",
   "execution_count": null,
   "metadata": {
    "colab": {
     "background_save": true
    },
    "id": "DWmn7cHN2utf"
   },
   "outputs": [],
   "source": [
    "take1.describe().T"
   ]
  },
  {
   "cell_type": "code",
   "execution_count": null,
   "metadata": {
    "colab": {
     "background_save": true
    },
    "id": "XaWLdZeC4AMc"
   },
   "outputs": [],
   "source": []
  },
  {
   "cell_type": "markdown",
   "metadata": {
    "id": "Jt-WPtfX7Acl"
   },
   "source": [
    "Let us check the correlations between the different columns."
   ]
  },
  {
   "cell_type": "code",
   "execution_count": null,
   "metadata": {
    "colab": {
     "background_save": true
    },
    "id": "ih55F6Nc7Lse"
   },
   "outputs": [],
   "source": [
    "fig = px.imshow(take1.corr())\n",
    "fig.show()"
   ]
  },
  {
   "cell_type": "code",
   "execution_count": null,
   "metadata": {
    "id": "_vWMgCL97qI-"
   },
   "outputs": [],
   "source": [
    "px.scatter(take1,\n",
    "            x = 'P3',\n",
    "            y = 'P4',\n",
    "            color = 'IsAlert')"
   ]
  },
  {
   "cell_type": "markdown",
   "metadata": {
    "id": "x134o3ft-W8M"
   },
   "source": [
    "-  There is negative correlation between P3 and P4.\n",
    "-  Positive correlation between V1,V6 and V1,V10.\n",
    "Let us see the graphs.\n",
    "\n",
    "---\n",
    "\n"
   ]
  },
  {
   "cell_type": "code",
   "execution_count": null,
   "metadata": {
    "id": "IoE8JGh4-e7h"
   },
   "outputs": [],
   "source": [
    "px.scatter(take1,\n",
    "           x = 'V1',\n",
    "           y = 'V10',\n",
    "           color = 'IsAlert')"
   ]
  },
  {
   "cell_type": "code",
   "execution_count": null,
   "metadata": {
    "id": "F0T42UNqEcTx"
   },
   "outputs": [],
   "source": [
    "jovian.commit(project = 'my-project-001')"
   ]
  },
  {
   "cell_type": "markdown",
   "metadata": {
    "id": "MDnxr_tUHIoR"
   },
   "source": [
    "- Now we will normalize and try to fit in logistic regression.\n",
    "- Cleaning was required just to take out the irrelevant columns.\n",
    "- No null values were found.\n",
    "- We can not decide how to change the different columns as we dont know what they represent.\n",
    "- We just have to use less and less columns of physiological data.\n",
    "- So lets try to get accuracy with diferent models. \n",
    "- Remember the process is a loop so we can come back if we dont feel content."
   ]
  },
  {
   "cell_type": "code",
   "execution_count": null,
   "metadata": {
    "id": "x_EBx9ZWMoRe"
   },
   "outputs": [],
   "source": [
    "!pip install scikit-learn --upgrade --quiet"
   ]
  },
  {
   "cell_type": "code",
   "execution_count": null,
   "metadata": {
    "id": "GjkuXBMmHGQk"
   },
   "outputs": [],
   "source": [
    "from sklearn.model_selection import train_test_split"
   ]
  },
  {
   "cell_type": "code",
   "execution_count": null,
   "metadata": {
    "id": "eKJnVfUwMKee"
   },
   "outputs": [],
   "source": [
    "train_df, val_df = train_test_split(take1, test_size = 0.25, random_state = 42)"
   ]
  },
  {
   "cell_type": "code",
   "execution_count": null,
   "metadata": {
    "id": "h_je3kMqNjUg"
   },
   "outputs": [],
   "source": [
    "train_df"
   ]
  },
  {
   "cell_type": "code",
   "execution_count": null,
   "metadata": {
    "id": "FaphRG8jNl5i"
   },
   "outputs": [],
   "source": [
    "X =take1.iloc[:,3:31]"
   ]
  },
  {
   "cell_type": "code",
   "execution_count": null,
   "metadata": {
    "id": "s1bTLj6BOVXQ"
   },
   "outputs": [],
   "source": [
    "X"
   ]
  },
  {
   "cell_type": "code",
   "execution_count": null,
   "metadata": {
    "id": "l6f7RpLCPlKn"
   },
   "outputs": [],
   "source": [
    "X_train,X_val = train_test_split(train_df, test_size = 0.25, random_state = 42)"
   ]
  },
  {
   "cell_type": "markdown",
   "metadata": {
    "id": "Qgr2-HEqQIdk"
   },
   "source": [
    "LET US Normalize.\n",
    "### We have taken the train part and the validation part seperately, and also we have taken the targets out so that we will now start the show called ML."
   ]
  },
  {
   "cell_type": "code",
   "execution_count": null,
   "metadata": {
    "id": "liDil5FkQE3N"
   },
   "outputs": [],
   "source": [
    "X_train_target = X_train.iloc[:,2]\n",
    "X_train_target"
   ]
  },
  {
   "cell_type": "code",
   "execution_count": null,
   "metadata": {
    "id": "ckmil8knQ6vI"
   },
   "outputs": [],
   "source": [
    "X_val_target =X_val.iloc[:,2]"
   ]
  },
  {
   "cell_type": "code",
   "execution_count": null,
   "metadata": {
    "id": "Sq8yHUJvRTyD"
   },
   "outputs": [],
   "source": [
    "X_train_input = X_train.iloc[:,3:31]\n",
    "X_val_input = X_val.iloc[:,3:31]\n",
    "X_train_input"
   ]
  },
  {
   "cell_type": "code",
   "execution_count": null,
   "metadata": {
    "id": "EPWwct2BRtnc"
   },
   "outputs": [],
   "source": [
    "from sklearn.preprocessing import MinMaxScaler"
   ]
  },
  {
   "cell_type": "code",
   "execution_count": null,
   "metadata": {
    "id": "VpDYYGdfVUL5"
   },
   "outputs": [],
   "source": [
    "input_X=train_df.iloc[:,3:31]"
   ]
  },
  {
   "cell_type": "code",
   "execution_count": null,
   "metadata": {
    "id": "9opId1-rVT4m"
   },
   "outputs": [],
   "source": [
    "input_X"
   ]
  },
  {
   "cell_type": "code",
   "execution_count": null,
   "metadata": {
    "id": "GSZhGMMvR9ha"
   },
   "outputs": [],
   "source": [
    "scaler = MinMaxScaler()"
   ]
  },
  {
   "cell_type": "code",
   "execution_count": null,
   "metadata": {
    "id": "bYdAe1LqSCoi"
   },
   "outputs": [],
   "source": [
    "scaler.fit(input_X)"
   ]
  },
  {
   "cell_type": "code",
   "execution_count": null,
   "metadata": {
    "id": "U_eTKkDQSYix"
   },
   "outputs": [],
   "source": [
    "list(scaler.data_min_)"
   ]
  },
  {
   "cell_type": "code",
   "execution_count": null,
   "metadata": {
    "id": "RF6vx2tLV5Rp"
   },
   "outputs": [],
   "source": [
    "X_train_input"
   ]
  },
  {
   "cell_type": "code",
   "execution_count": null,
   "metadata": {
    "id": "ECyOUKWOSnLG"
   },
   "outputs": [],
   "source": [
    "X_train_input.iloc[:,:] = scaler.transform(X_train_input.iloc[:,:])\n",
    "X_val_input.iloc[:,:] = scaler.transform(X_val_input.iloc[:,:])"
   ]
  },
  {
   "cell_type": "code",
   "execution_count": null,
   "metadata": {
    "id": "wzWwmmXPTgGe"
   },
   "outputs": [],
   "source": [
    "X_train_input"
   ]
  },
  {
   "cell_type": "markdown",
   "metadata": {},
   "source": [
    "### Now we have normalised the data and now we can start with the different models. The targets are either 0 or 1. We may try to do logistic regression but we are not."
   ]
  },
  {
   "cell_type": "code",
   "execution_count": null,
   "metadata": {
    "id": "yv6nHrrFTnEu"
   },
   "outputs": [],
   "source": [
    "jovian.commit()"
   ]
  },
  {
   "cell_type": "code",
   "execution_count": null,
   "metadata": {
    "id": "A9Fbov7RaYWt"
   },
   "outputs": [],
   "source": [
    "jovian.commit(project=\"my-project-001\")"
   ]
  },
  {
   "cell_type": "code",
   "execution_count": null,
   "metadata": {
    "id": "mk5S2pPfBI-k"
   },
   "outputs": [],
   "source": [
    "from sklearn.tree import DecisionTreeRegressor"
   ]
  },
  {
   "cell_type": "code",
   "execution_count": null,
   "metadata": {
    "id": "gt8vIXKNLCX2"
   },
   "outputs": [],
   "source": [
    "model=DecisionTreeRegressor(random_state = 42)"
   ]
  },
  {
   "cell_type": "code",
   "execution_count": null,
   "metadata": {
    "id": "bq8ai9rXLLX5"
   },
   "outputs": [],
   "source": [
    "model.fit(X_train_input, X_train_target)"
   ]
  },
  {
   "cell_type": "code",
   "execution_count": null,
   "metadata": {
    "id": "g4NHd3ZTLZYH"
   },
   "outputs": [],
   "source": [
    "preds_tree =model.predict(X_train_input)\n",
    "preds_tree"
   ]
  },
  {
   "cell_type": "code",
   "execution_count": null,
   "metadata": {
    "id": "SX7x6LUDLmnh"
   },
   "outputs": [],
   "source": [
    "from sklearn.metrics import accuracy_score"
   ]
  },
  {
   "cell_type": "code",
   "execution_count": null,
   "metadata": {
    "id": "sDabUVhRMCdE"
   },
   "outputs": [],
   "source": [
    "accuracy_score(X_train_target, preds_tree)"
   ]
  },
  {
   "cell_type": "markdown",
   "metadata": {
    "id": "BbTG0CDlOhKw"
   },
   "source": [
    "This is more than perfect...\n",
    "I think it has mugged up the answers. We will have to tweak with the hyperparameters of the model, untill then let us see what it comments on validation set."
   ]
  },
  {
   "cell_type": "code",
   "execution_count": null,
   "metadata": {
    "id": "-IULEGYGMFPn"
   },
   "outputs": [],
   "source": [
    "jovian.commit(project = 'my-project-001')"
   ]
  },
  {
   "cell_type": "code",
   "execution_count": null,
   "metadata": {
    "id": "PCxB6EcOMOG4"
   },
   "outputs": [],
   "source": [
    "X_train_target"
   ]
  },
  {
   "cell_type": "code",
   "execution_count": null,
   "metadata": {
    "id": "A690-rBeNTNX"
   },
   "outputs": [],
   "source": [
    "pred_val_tree = model.predict(X_val_input)"
   ]
  },
  {
   "cell_type": "code",
   "execution_count": null,
   "metadata": {
    "id": "FQM7dR-nPA9m"
   },
   "outputs": [],
   "source": [
    "accuracy_score(X_val_target,pred_val_tree)"
   ]
  },
  {
   "cell_type": "code",
   "execution_count": null,
   "metadata": {
    "id": "UKcp0NscPS3K"
   },
   "outputs": [],
   "source": [
    "jovian.commit(project = 'my-project-001')"
   ]
  },
  {
   "cell_type": "markdown",
   "metadata": {},
   "source": [
    "### Now we will have a look at random forest. Let us have a random forest evaluate it."
   ]
  },
  {
   "cell_type": "code",
   "execution_count": null,
   "metadata": {},
   "outputs": [],
   "source": [
    "from sklearn.ensemble import RandomForestRegressor"
   ]
  },
  {
   "cell_type": "code",
   "execution_count": null,
   "metadata": {},
   "outputs": [],
   "source": [
    "jungle = RandomForestRegressor(random_state = 42)"
   ]
  },
  {
   "cell_type": "code",
   "execution_count": null,
   "metadata": {},
   "outputs": [],
   "source": [
    "jungle.fit(X_train_input,X_train_target)"
   ]
  },
  {
   "cell_type": "code",
   "execution_count": null,
   "metadata": {},
   "outputs": [],
   "source": [
    "jungle_preds = jungle.predict(X_train_input)"
   ]
  },
  {
   "cell_type": "code",
   "execution_count": null,
   "metadata": {},
   "outputs": [],
   "source": [
    "def tologistic(jungle_preds):\n",
    "    for i in range(len(jungle_preds)):\n",
    "        if jungle_preds[i]>0.5:\n",
    "            jungle_preds[i]=1\n",
    "        else:\n",
    "            jungle_preds[i]=0\n",
    "    return jungle_preds"
   ]
  },
  {
   "cell_type": "code",
   "execution_count": null,
   "metadata": {},
   "outputs": [],
   "source": [
    "tologistic(jungle_preds)"
   ]
  },
  {
   "cell_type": "code",
   "execution_count": null,
   "metadata": {},
   "outputs": [],
   "source": [
    "accuracy_score(X_train_target,jungle_preds )"
   ]
  },
  {
   "cell_type": "code",
   "execution_count": null,
   "metadata": {},
   "outputs": [],
   "source": [
    "jungle_val_preds =jungle.predict(X_val_input)"
   ]
  },
  {
   "cell_type": "code",
   "execution_count": null,
   "metadata": {},
   "outputs": [],
   "source": [
    "tologistic(jungle_val_preds)"
   ]
  },
  {
   "cell_type": "code",
   "execution_count": null,
   "metadata": {},
   "outputs": [],
   "source": [
    "accuracy_score(X_val_target, jungle_val_preds)"
   ]
  },
  {
   "cell_type": "markdown",
   "metadata": {},
   "source": [
    "### So we will try tuning the hyperparameters, What do you say or validation is good enough.\n",
    "Should we try a test set one time, Oh I remembered how can we test the test??"
   ]
  },
  {
   "cell_type": "code",
   "execution_count": null,
   "metadata": {},
   "outputs": [],
   "source": [
    "jovian.commit()"
   ]
  },
  {
   "cell_type": "markdown",
   "metadata": {},
   "source": [
    "## Let us tune the model a little to get more realistic answers or should I get the test answers right away as the validation is also quite good. "
   ]
  },
  {
   "cell_type": "code",
   "execution_count": null,
   "metadata": {},
   "outputs": [],
   "source": [
    "#with test data\n",
    "def refine(data):\n",
    "    data = data.drop(['P8','V7','V9'],axis = 1)\n",
    "    data = data.iloc[:,3:]\n",
    "    data.iloc[:,:] = scaler.transform(data.iloc[:,:])\n",
    "    return data"
   ]
  },
  {
   "cell_type": "code",
   "execution_count": null,
   "metadata": {},
   "outputs": [],
   "source": [
    "test1 = refine(test1)"
   ]
  },
  {
   "cell_type": "raw",
   "metadata": {},
   "source": [
    "test1"
   ]
  },
  {
   "cell_type": "code",
   "execution_count": null,
   "metadata": {},
   "outputs": [],
   "source": [
    "test1"
   ]
  },
  {
   "cell_type": "code",
   "execution_count": null,
   "metadata": {},
   "outputs": [],
   "source": []
  },
  {
   "cell_type": "code",
   "execution_count": null,
   "metadata": {},
   "outputs": [],
   "source": [
    "test_result_tree = model.predict(test1)"
   ]
  },
  {
   "cell_type": "code",
   "execution_count": null,
   "metadata": {},
   "outputs": [],
   "source": [
    "sum(test_result_tree==1)"
   ]
  },
  {
   "cell_type": "code",
   "execution_count": null,
   "metadata": {},
   "outputs": [],
   "source": [
    "solution = pd.read_csv(data_dir+ '/solution.csv')"
   ]
  },
  {
   "cell_type": "code",
   "execution_count": null,
   "metadata": {},
   "outputs": [],
   "source": [
    "solution"
   ]
  },
  {
   "cell_type": "code",
   "execution_count": null,
   "metadata": {},
   "outputs": [],
   "source": [
    "target = solution['Prediction']"
   ]
  },
  {
   "cell_type": "code",
   "execution_count": null,
   "metadata": {},
   "outputs": [],
   "source": [
    "accuracy_score(test_result_tree,target)"
   ]
  },
  {
   "cell_type": "markdown",
   "metadata": {},
   "source": [
    "### Now the numbers are speaking. Lets have try at jungle model. You know it right!!!!"
   ]
  },
  {
   "cell_type": "code",
   "execution_count": null,
   "metadata": {},
   "outputs": [],
   "source": [
    "jungle_solution = jungle.predict(test1)"
   ]
  },
  {
   "cell_type": "code",
   "execution_count": null,
   "metadata": {},
   "outputs": [],
   "source": [
    "jungle_solution"
   ]
  },
  {
   "cell_type": "code",
   "execution_count": null,
   "metadata": {},
   "outputs": [],
   "source": [
    "tologistic(jungle_solution)"
   ]
  },
  {
   "cell_type": "code",
   "execution_count": null,
   "metadata": {},
   "outputs": [],
   "source": [
    "accuracy_score(jungle_solution, target)"
   ]
  },
  {
   "cell_type": "markdown",
   "metadata": {},
   "source": [
    "### More accurate than the partner in crime.....But the real question is..\n",
    "IS 77.78% enough??"
   ]
  },
  {
   "cell_type": "code",
   "execution_count": null,
   "metadata": {},
   "outputs": [
    {
     "data": {
      "application/javascript": [
       "window.require && require([\"base/js/namespace\"],function(Jupyter){Jupyter.notebook.save_checkpoint()})"
      ],
      "text/plain": [
       "<IPython.core.display.Javascript object>"
      ]
     },
     "metadata": {},
     "output_type": "display_data"
    }
   ],
   "source": [
    "jovian.commit(project = 'my-project-001')"
   ]
  },
  {
   "cell_type": "markdown",
   "metadata": {},
   "source": [
    "#### Time to fine tune the MODELS\n",
    "R U REAADY????"
   ]
  },
  {
   "cell_type": "code",
   "execution_count": null,
   "metadata": {},
   "outputs": [],
   "source": []
  }
 ],
 "metadata": {
  "colab": {
   "collapsed_sections": [],
   "name": "my-project-001.ipynb",
   "version": ""
  },
  "kernelspec": {
   "display_name": "Python 3",
   "language": "python",
   "name": "python3"
  },
  "language_info": {
   "codemirror_mode": {
    "name": "ipython",
    "version": 3
   },
   "file_extension": ".py",
   "mimetype": "text/x-python",
   "name": "python",
   "nbconvert_exporter": "python",
   "pygments_lexer": "ipython3",
   "version": "3.8.5"
  }
 },
 "nbformat": 4,
 "nbformat_minor": 1
}
